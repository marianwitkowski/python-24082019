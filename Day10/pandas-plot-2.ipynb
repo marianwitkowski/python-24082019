{
 "cells": [
  {
   "cell_type": "code",
   "execution_count": 1,
   "metadata": {},
   "outputs": [],
   "source": [
    "%matplotlib inline\n",
    "import numpy as np\n",
    "import pandas as pd"
   ]
  },
  {
   "cell_type": "code",
   "execution_count": 2,
   "metadata": {},
   "outputs": [
    {
     "data": {
      "text/html": [
       "<div>\n",
       "<style scoped>\n",
       "    .dataframe tbody tr th:only-of-type {\n",
       "        vertical-align: middle;\n",
       "    }\n",
       "\n",
       "    .dataframe tbody tr th {\n",
       "        vertical-align: top;\n",
       "    }\n",
       "\n",
       "    .dataframe thead th {\n",
       "        text-align: right;\n",
       "    }\n",
       "</style>\n",
       "<table border=\"1\" class=\"dataframe\">\n",
       "  <thead>\n",
       "    <tr style=\"text-align: right;\">\n",
       "      <th></th>\n",
       "      <th>LOCATION</th>\n",
       "      <th>INDICATOR</th>\n",
       "      <th>SUBJECT</th>\n",
       "      <th>MEASURE</th>\n",
       "      <th>FREQUENCY</th>\n",
       "      <th>TIME</th>\n",
       "      <th>Value</th>\n",
       "      <th>Flag Codes</th>\n",
       "    </tr>\n",
       "  </thead>\n",
       "  <tbody>\n",
       "    <tr>\n",
       "      <th>0</th>\n",
       "      <td>AUS</td>\n",
       "      <td>UNEMP</td>\n",
       "      <td>TOT</td>\n",
       "      <td>PC_LF</td>\n",
       "      <td>Q</td>\n",
       "      <td>2017-Q3</td>\n",
       "      <td>5.509727</td>\n",
       "      <td>NaN</td>\n",
       "    </tr>\n",
       "    <tr>\n",
       "      <th>1</th>\n",
       "      <td>AUS</td>\n",
       "      <td>UNEMP</td>\n",
       "      <td>TOT</td>\n",
       "      <td>PC_LF</td>\n",
       "      <td>Q</td>\n",
       "      <td>2017-Q4</td>\n",
       "      <td>5.461043</td>\n",
       "      <td>NaN</td>\n",
       "    </tr>\n",
       "    <tr>\n",
       "      <th>2</th>\n",
       "      <td>AUS</td>\n",
       "      <td>UNEMP</td>\n",
       "      <td>TOT</td>\n",
       "      <td>PC_LF</td>\n",
       "      <td>Q</td>\n",
       "      <td>2018-Q1</td>\n",
       "      <td>5.524227</td>\n",
       "      <td>NaN</td>\n",
       "    </tr>\n",
       "    <tr>\n",
       "      <th>3</th>\n",
       "      <td>AUS</td>\n",
       "      <td>UNEMP</td>\n",
       "      <td>TOT</td>\n",
       "      <td>PC_LF</td>\n",
       "      <td>Q</td>\n",
       "      <td>2018-Q2</td>\n",
       "      <td>5.417074</td>\n",
       "      <td>NaN</td>\n",
       "    </tr>\n",
       "    <tr>\n",
       "      <th>4</th>\n",
       "      <td>AUS</td>\n",
       "      <td>UNEMP</td>\n",
       "      <td>TOT</td>\n",
       "      <td>PC_LF</td>\n",
       "      <td>Q</td>\n",
       "      <td>2018-Q3</td>\n",
       "      <td>5.182643</td>\n",
       "      <td>NaN</td>\n",
       "    </tr>\n",
       "  </tbody>\n",
       "</table>\n",
       "</div>"
      ],
      "text/plain": [
       "  LOCATION INDICATOR SUBJECT MEASURE FREQUENCY     TIME     Value  Flag Codes\n",
       "0      AUS     UNEMP     TOT   PC_LF         Q  2017-Q3  5.509727         NaN\n",
       "1      AUS     UNEMP     TOT   PC_LF         Q  2017-Q4  5.461043         NaN\n",
       "2      AUS     UNEMP     TOT   PC_LF         Q  2018-Q1  5.524227         NaN\n",
       "3      AUS     UNEMP     TOT   PC_LF         Q  2018-Q2  5.417074         NaN\n",
       "4      AUS     UNEMP     TOT   PC_LF         Q  2018-Q3  5.182643         NaN"
      ]
     },
     "execution_count": 2,
     "metadata": {},
     "output_type": "execute_result"
    }
   ],
   "source": [
    "df = pd.read_csv(\"https://bit.ly/2nB5tmf\")\n",
    "df.head()"
   ]
  },
  {
   "cell_type": "code",
   "execution_count": 3,
   "metadata": {},
   "outputs": [
    {
     "data": {
      "text/html": [
       "<div>\n",
       "<style scoped>\n",
       "    .dataframe tbody tr th:only-of-type {\n",
       "        vertical-align: middle;\n",
       "    }\n",
       "\n",
       "    .dataframe tbody tr th {\n",
       "        vertical-align: top;\n",
       "    }\n",
       "\n",
       "    .dataframe thead th {\n",
       "        text-align: right;\n",
       "    }\n",
       "</style>\n",
       "<table border=\"1\" class=\"dataframe\">\n",
       "  <thead>\n",
       "    <tr style=\"text-align: right;\">\n",
       "      <th></th>\n",
       "      <th>LOCATION</th>\n",
       "      <th>TIME</th>\n",
       "      <th>Value</th>\n",
       "    </tr>\n",
       "  </thead>\n",
       "  <tbody>\n",
       "    <tr>\n",
       "      <th>0</th>\n",
       "      <td>AUS</td>\n",
       "      <td>2017-Q3</td>\n",
       "      <td>5.509727</td>\n",
       "    </tr>\n",
       "    <tr>\n",
       "      <th>1</th>\n",
       "      <td>AUS</td>\n",
       "      <td>2017-Q4</td>\n",
       "      <td>5.461043</td>\n",
       "    </tr>\n",
       "    <tr>\n",
       "      <th>2</th>\n",
       "      <td>AUS</td>\n",
       "      <td>2018-Q1</td>\n",
       "      <td>5.524227</td>\n",
       "    </tr>\n",
       "    <tr>\n",
       "      <th>3</th>\n",
       "      <td>AUS</td>\n",
       "      <td>2018-Q2</td>\n",
       "      <td>5.417074</td>\n",
       "    </tr>\n",
       "    <tr>\n",
       "      <th>4</th>\n",
       "      <td>AUS</td>\n",
       "      <td>2018-Q3</td>\n",
       "      <td>5.182643</td>\n",
       "    </tr>\n",
       "  </tbody>\n",
       "</table>\n",
       "</div>"
      ],
      "text/plain": [
       "  LOCATION     TIME     Value\n",
       "0      AUS  2017-Q3  5.509727\n",
       "1      AUS  2017-Q4  5.461043\n",
       "2      AUS  2018-Q1  5.524227\n",
       "3      AUS  2018-Q2  5.417074\n",
       "4      AUS  2018-Q3  5.182643"
      ]
     },
     "execution_count": 3,
     "metadata": {},
     "output_type": "execute_result"
    }
   ],
   "source": [
    "df.drop(axis=1, labels=['INDICATOR','SUBJECT','MEASURE','FREQUENCY','Flag Codes'], inplace=True)\n",
    "df.head()"
   ]
  },
  {
   "cell_type": "code",
   "execution_count": 6,
   "metadata": {},
   "outputs": [
    {
     "data": {
      "text/plain": [
       "LOCATION\n",
       "AUS      5.296969\n",
       "AUT      4.936177\n",
       "BEL      6.035136\n",
       "CAN      5.850000\n",
       "CHE      4.688581\n",
       "CHL      6.860499\n",
       "COL      9.825824\n",
       "CZE      2.258069\n",
       "DEU      3.386140\n",
       "DNK      5.176533\n",
       "EA19     8.199234\n",
       "ESP     15.356301\n",
       "EST      5.225120\n",
       "EU28     6.941205\n",
       "FIN      7.480626\n",
       "FRA      8.987551\n",
       "GBR      3.991333\n",
       "GRC     19.321049\n",
       "HUN      3.704168\n",
       "IRL      5.749175\n",
       "ISL      2.689477\n",
       "ISR      4.002471\n",
       "ITA     10.629602\n",
       "JPN      2.504167\n",
       "KOR      3.829167\n",
       "LTU      6.330635\n",
       "LUX      5.461956\n",
       "LVA      7.443236\n",
       "MEX      3.372015\n",
       "NLD      3.900489\n",
       "NOR      3.770623\n",
       "NZL      4.300000\n",
       "OECD     5.384688\n",
       "POL      3.966059\n",
       "PRT      7.197262\n",
       "RUS      4.840563\n",
       "SVK      6.641189\n",
       "SVN      5.179114\n",
       "SWE      6.452220\n",
       "TUR     11.440907\n",
       "USA      3.937500\n",
       "ZAF     27.414266\n",
       "Name: Value, dtype: float64"
      ]
     },
     "execution_count": 6,
     "metadata": {},
     "output_type": "execute_result"
    }
   ],
   "source": [
    "df.groupby('LOCATION')['Value'].mean()"
   ]
  },
  {
   "cell_type": "code",
   "execution_count": 9,
   "metadata": {},
   "outputs": [
    {
     "data": {
      "text/plain": [
       "<matplotlib.axes._subplots.AxesSubplot at 0x8d99f98>"
      ]
     },
     "execution_count": 9,
     "metadata": {},
     "output_type": "execute_result"
    },
    {
     "data": {
      "image/png": "[encoded data removed]",
      "text/plain": [
       "<Figure size 1080x720 with 1 Axes>"
      ]
     },
     "metadata": {
      "needs_background": "light"
     },
     "output_type": "display_data"
    }
   ],
   "source": [
    "df.groupby('LOCATION')['Value'].mean().plot(kind='bar', figsize=(15,10), title='Wykres bezrobocia')"
   ]
  },
  {
   "cell_type": "code",
   "execution_count": 23,
   "metadata": {},
   "outputs": [
    {
     "data": {
      "text/html": [
       "<div>\n",
       "<style scoped>\n",
       "    .dataframe tbody tr th:only-of-type {\n",
       "        vertical-align: middle;\n",
       "    }\n",
       "\n",
       "    .dataframe tbody tr th {\n",
       "        vertical-align: top;\n",
       "    }\n",
       "\n",
       "    .dataframe thead th {\n",
       "        text-align: right;\n",
       "    }\n",
       "</style>\n",
       "<table border=\"1\" class=\"dataframe\">\n",
       "  <thead>\n",
       "    <tr style=\"text-align: right;\">\n",
       "      <th></th>\n",
       "      <th>LOCATION</th>\n",
       "      <th>TIME</th>\n",
       "      <th>Value</th>\n",
       "    </tr>\n",
       "  </thead>\n",
       "  <tbody>\n",
       "    <tr>\n",
       "      <th>166</th>\n",
       "      <td>POL</td>\n",
       "      <td>2017-Q3</td>\n",
       "      <td>4.700831</td>\n",
       "    </tr>\n",
       "    <tr>\n",
       "      <th>167</th>\n",
       "      <td>POL</td>\n",
       "      <td>2017-Q4</td>\n",
       "      <td>4.433535</td>\n",
       "    </tr>\n",
       "    <tr>\n",
       "      <th>168</th>\n",
       "      <td>POL</td>\n",
       "      <td>2018-Q1</td>\n",
       "      <td>4.084571</td>\n",
       "    </tr>\n",
       "    <tr>\n",
       "      <th>169</th>\n",
       "      <td>POL</td>\n",
       "      <td>2018-Q2</td>\n",
       "      <td>3.843129</td>\n",
       "    </tr>\n",
       "    <tr>\n",
       "      <th>170</th>\n",
       "      <td>POL</td>\n",
       "      <td>2018-Q3</td>\n",
       "      <td>3.826249</td>\n",
       "    </tr>\n",
       "    <tr>\n",
       "      <th>171</th>\n",
       "      <td>POL</td>\n",
       "      <td>2018-Q4</td>\n",
       "      <td>3.625855</td>\n",
       "    </tr>\n",
       "    <tr>\n",
       "      <th>172</th>\n",
       "      <td>POL</td>\n",
       "      <td>2019-Q1</td>\n",
       "      <td>3.739147</td>\n",
       "    </tr>\n",
       "    <tr>\n",
       "      <th>173</th>\n",
       "      <td>POL</td>\n",
       "      <td>2019-Q2</td>\n",
       "      <td>3.475157</td>\n",
       "    </tr>\n",
       "  </tbody>\n",
       "</table>\n",
       "</div>"
      ],
      "text/plain": [
       "    LOCATION     TIME     Value\n",
       "166      POL  2017-Q3  4.700831\n",
       "167      POL  2017-Q4  4.433535\n",
       "168      POL  2018-Q1  4.084571\n",
       "169      POL  2018-Q2  3.843129\n",
       "170      POL  2018-Q3  3.826249\n",
       "171      POL  2018-Q4  3.625855\n",
       "172      POL  2019-Q1  3.739147\n",
       "173      POL  2019-Q2  3.475157"
      ]
     },
     "execution_count": 23,
     "metadata": {},
     "output_type": "execute_result"
    }
   ],
   "source": [
    "df_pol = df[ df[\"LOCATION\"] == \"POL\" ]\n",
    "df_pol"
   ]
  },
  {
   "cell_type": "code",
   "execution_count": 26,
   "metadata": {},
   "outputs": [
    {
     "data": {
      "text/plain": [
       "<matplotlib.axes._subplots.AxesSubplot at 0x11f3de80>"
      ]
     },
     "execution_count": 26,
     "metadata": {},
     "output_type": "execute_result"
    },
    {
     "data": {
      "image/png": "[encoded data removed]",
      "text/plain": [
       "<Figure size 576x432 with 1 Axes>"
      ]
     },
     "metadata": {
      "needs_background": "light"
     },
     "output_type": "display_data"
    }
   ],
   "source": [
    "df_pol.groupby('TIME')['Value'].mean().plot(kind='bar', figsize=(8,6), title='Wykres bezrobocia POL')"
   ]
  },
  {
   "cell_type": "code",
   "execution_count": null,
   "metadata": {},
   "outputs": [],
   "source": []
  }
 ],
 "metadata": {
  "kernelspec": {
   "display_name": "Python 3",
   "language": "python",
   "name": "python3"
  },
  "language_info": {
   "codemirror_mode": {
    "name": "ipython",
    "version": 3
   },
   "file_extension": ".py",
   "mimetype": "text/x-python",
   "name": "python",
   "nbconvert_exporter": "python",
   "pygments_lexer": "ipython3",
   "version": "3.7.3"
  }
 },
 "nbformat": 4,
 "nbformat_minor": 2
}
